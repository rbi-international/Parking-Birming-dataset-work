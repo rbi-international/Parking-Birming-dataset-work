{
  "nbformat": 4,
  "nbformat_minor": 0,
  "metadata": {
    "colab": {
      "name": "parking + Birmingham Class, Regr, Clustering.ipynb",
      "provenance": [],
      "collapsed_sections": [],
      "authorship_tag": "ABX9TyOCQjVS9rrnyX01SnpiakcR",
      "include_colab_link": true
    },
    "kernelspec": {
      "name": "python3",
      "display_name": "Python 3"
    }
  },
  "cells": [
    {
      "cell_type": "markdown",
      "metadata": {
        "id": "view-in-github",
        "colab_type": "text"
      },
      "source": [
        "<a href=\"https://colab.research.google.com/github/rbi-international/Parking-Birming-dataset-work/blob/master/parking_%2B_Birmingham_Class%2C_Regr%2C_Clustering.ipynb\" target=\"_parent\"><img src=\"https://colab.research.google.com/assets/colab-badge.svg\" alt=\"Open In Colab\"/></a>"
      ]
    },
    {
      "cell_type": "markdown",
      "metadata": {
        "id": "wf1ao1E3ICl_",
        "colab_type": "text"
      },
      "source": [
        "Importing the parking+Birmingham dataset\n"
      ]
    },
    {
      "cell_type": "code",
      "metadata": {
        "id": "JE0ZdVThHh2t",
        "colab_type": "code",
        "colab": {
          "base_uri": "https://localhost:8080/",
          "height": 118
        },
        "outputId": "654b92a0-14ef-4cd8-bb99-798c3ae801d0"
      },
      "source": [
        "'''First import the dataset and see the features in the dataset'''\n",
        "import pandas as pd\n",
        "import numpy as np\n",
        "df = pd.read_csv('https://raw.githubusercontent.com/rbi-international/Parking-Birming-dataset-work/master/dataset.csv')\n",
        "print(df.head())"
      ],
      "execution_count": 4,
      "outputs": [
        {
          "output_type": "stream",
          "text": [
            "  SystemCodeNumber  Capacity  Occupancy          LastUpdated\n",
            "0      BHMBCCMKT01       577         61  2016-10-04 07:59:42\n",
            "1      BHMBCCMKT01       577         64  2016-10-04 08:25:42\n",
            "2      BHMBCCMKT01       577         80  2016-10-04 08:59:42\n",
            "3      BHMBCCMKT01       577        107  2016-10-04 09:32:46\n",
            "4      BHMBCCMKT01       577        150  2016-10-04 09:59:48\n"
          ],
          "name": "stdout"
        }
      ]
    },
    {
      "cell_type": "code",
      "metadata": {
        "id": "NFGFrWJELzFk",
        "colab_type": "code",
        "colab": {
          "base_uri": "https://localhost:8080/",
          "height": 118
        },
        "outputId": "03516edd-8ccf-4f65-b171-2270ebbc0df8"
      },
      "source": [
        "print(df.tail())"
      ],
      "execution_count": 5,
      "outputs": [
        {
          "output_type": "stream",
          "text": [
            "      SystemCodeNumber  Capacity  Occupancy          LastUpdated\n",
            "35712         Shopping      1920       1517  2016-12-19 14:30:33\n",
            "35713         Shopping      1920       1487  2016-12-19 15:03:34\n",
            "35714         Shopping      1920       1432  2016-12-19 15:29:33\n",
            "35715         Shopping      1920       1321  2016-12-19 16:03:35\n",
            "35716         Shopping      1920       1180  2016-12-19 16:30:35\n"
          ],
          "name": "stdout"
        }
      ]
    },
    {
      "cell_type": "code",
      "metadata": {
        "id": "hWx0-Q5aL2Dg",
        "colab_type": "code",
        "colab": {
          "base_uri": "https://localhost:8080/",
          "height": 34
        },
        "outputId": "83db3e00-b032-485d-b17c-a5a0319ddce5"
      },
      "source": [
        "# No. of rows as Features\n",
        "print(df.shape[0])"
      ],
      "execution_count": 6,
      "outputs": [
        {
          "output_type": "stream",
          "text": [
            "35717\n"
          ],
          "name": "stdout"
        }
      ]
    },
    {
      "cell_type": "code",
      "metadata": {
        "id": "GEAOxpu0MEls",
        "colab_type": "code",
        "colab": {
          "base_uri": "https://localhost:8080/",
          "height": 34
        },
        "outputId": "59eeec6d-30ec-4001-cf6f-64b365c7a480"
      },
      "source": [
        "# No. of columns as samples\n",
        "print(df.shape[1])\n"
      ],
      "execution_count": 7,
      "outputs": [
        {
          "output_type": "stream",
          "text": [
            "4\n"
          ],
          "name": "stdout"
        }
      ]
    },
    {
      "cell_type": "code",
      "metadata": {
        "id": "Sued82E_MH-J",
        "colab_type": "code",
        "colab": {
          "base_uri": "https://localhost:8080/",
          "height": 101
        },
        "outputId": "6fe08515-0f25-4a6a-d502-8cfe319649f4"
      },
      "source": [
        "df.isnull().sum()"
      ],
      "execution_count": 8,
      "outputs": [
        {
          "output_type": "execute_result",
          "data": {
            "text/plain": [
              "SystemCodeNumber    0\n",
              "Capacity            0\n",
              "Occupancy           0\n",
              "LastUpdated         0\n",
              "dtype: int64"
            ]
          },
          "metadata": {
            "tags": []
          },
          "execution_count": 8
        }
      ]
    },
    {
      "cell_type": "code",
      "metadata": {
        "id": "pRh4bznHMMhR",
        "colab_type": "code",
        "colab": {
          "base_uri": "https://localhost:8080/",
          "height": 34
        },
        "outputId": "12e0c54e-c3c4-42d1-e9d1-d94d17f19707"
      },
      "source": [
        "# Dividing data into input and target\n",
        "#splitting the dataset into the source variables (independant variables) and the target variable (dependant variable)\n",
        "target=df['LastUpdated']\n",
        "target.shape"
      ],
      "execution_count": 9,
      "outputs": [
        {
          "output_type": "execute_result",
          "data": {
            "text/plain": [
              "(35717,)"
            ]
          },
          "metadata": {
            "tags": []
          },
          "execution_count": 9
        }
      ]
    },
    {
      "cell_type": "code",
      "metadata": {
        "id": "3seZrBw4MRYn",
        "colab_type": "code",
        "colab": {
          "base_uri": "https://localhost:8080/",
          "height": 34
        },
        "outputId": "7fe70b4d-c9b1-4444-c3d6-c01db46a05d3"
      },
      "source": [
        "cols = df.columns\n",
        "print(cols)"
      ],
      "execution_count": 10,
      "outputs": [
        {
          "output_type": "stream",
          "text": [
            "Index(['SystemCodeNumber', 'Capacity', 'Occupancy', 'LastUpdated'], dtype='object')\n"
          ],
          "name": "stdout"
        }
      ]
    },
    {
      "cell_type": "code",
      "metadata": {
        "id": "PPQML8hFMXhr",
        "colab_type": "code",
        "colab": {
          "base_uri": "https://localhost:8080/",
          "height": 34
        },
        "outputId": "3d28f57d-9495-4701-9ba0-d674b2185b4d"
      },
      "source": [
        "cols = df.columns[:3]\n",
        "cols"
      ],
      "execution_count": 11,
      "outputs": [
        {
          "output_type": "execute_result",
          "data": {
            "text/plain": [
              "Index(['SystemCodeNumber', 'Capacity', 'Occupancy'], dtype='object')"
            ]
          },
          "metadata": {
            "tags": []
          },
          "execution_count": 11
        }
      ]
    },
    {
      "cell_type": "code",
      "metadata": {
        "id": "Ijzhd_DkMbpk",
        "colab_type": "code",
        "colab": {}
      },
      "source": [
        "input_ = df[cols]"
      ],
      "execution_count": 0,
      "outputs": []
    },
    {
      "cell_type": "code",
      "metadata": {
        "id": "WEl3eALoMgmP",
        "colab_type": "code",
        "colab": {
          "base_uri": "https://localhost:8080/",
          "height": 34
        },
        "outputId": "df4e3e39-6a68-40bb-fd4e-95daf77a8021"
      },
      "source": [
        "input_.shape"
      ],
      "execution_count": 13,
      "outputs": [
        {
          "output_type": "execute_result",
          "data": {
            "text/plain": [
              "(35717, 3)"
            ]
          },
          "metadata": {
            "tags": []
          },
          "execution_count": 13
        }
      ]
    },
    {
      "cell_type": "code",
      "metadata": {
        "id": "oX2t-YG9Mldm",
        "colab_type": "code",
        "colab": {
          "base_uri": "https://localhost:8080/",
          "height": 34
        },
        "outputId": "55f1fc02-e204-436c-c35c-341ccec2a5cb"
      },
      "source": [
        "cols1 = df.columns[3:]\n",
        "cols1"
      ],
      "execution_count": 14,
      "outputs": [
        {
          "output_type": "execute_result",
          "data": {
            "text/plain": [
              "Index(['LastUpdated'], dtype='object')"
            ]
          },
          "metadata": {
            "tags": []
          },
          "execution_count": 14
        }
      ]
    },
    {
      "cell_type": "code",
      "metadata": {
        "id": "tjt23QUlMpOg",
        "colab_type": "code",
        "colab": {
          "base_uri": "https://localhost:8080/",
          "height": 284
        },
        "outputId": "c426adb5-038b-4a56-f58a-987cff64b109"
      },
      "source": [
        "input_.describe()"
      ],
      "execution_count": 15,
      "outputs": [
        {
          "output_type": "execute_result",
          "data": {
            "text/html": [
              "<div>\n",
              "<style scoped>\n",
              "    .dataframe tbody tr th:only-of-type {\n",
              "        vertical-align: middle;\n",
              "    }\n",
              "\n",
              "    .dataframe tbody tr th {\n",
              "        vertical-align: top;\n",
              "    }\n",
              "\n",
              "    .dataframe thead th {\n",
              "        text-align: right;\n",
              "    }\n",
              "</style>\n",
              "<table border=\"1\" class=\"dataframe\">\n",
              "  <thead>\n",
              "    <tr style=\"text-align: right;\">\n",
              "      <th></th>\n",
              "      <th>Capacity</th>\n",
              "      <th>Occupancy</th>\n",
              "    </tr>\n",
              "  </thead>\n",
              "  <tbody>\n",
              "    <tr>\n",
              "      <th>count</th>\n",
              "      <td>35717.000000</td>\n",
              "      <td>35717.000000</td>\n",
              "    </tr>\n",
              "    <tr>\n",
              "      <th>mean</th>\n",
              "      <td>1397.550130</td>\n",
              "      <td>642.228911</td>\n",
              "    </tr>\n",
              "    <tr>\n",
              "      <th>std</th>\n",
              "      <td>1179.326833</td>\n",
              "      <td>656.955535</td>\n",
              "    </tr>\n",
              "    <tr>\n",
              "      <th>min</th>\n",
              "      <td>220.000000</td>\n",
              "      <td>-8.000000</td>\n",
              "    </tr>\n",
              "    <tr>\n",
              "      <th>25%</th>\n",
              "      <td>500.000000</td>\n",
              "      <td>210.000000</td>\n",
              "    </tr>\n",
              "    <tr>\n",
              "      <th>50%</th>\n",
              "      <td>849.000000</td>\n",
              "      <td>446.000000</td>\n",
              "    </tr>\n",
              "    <tr>\n",
              "      <th>75%</th>\n",
              "      <td>2009.000000</td>\n",
              "      <td>798.000000</td>\n",
              "    </tr>\n",
              "    <tr>\n",
              "      <th>max</th>\n",
              "      <td>4675.000000</td>\n",
              "      <td>4327.000000</td>\n",
              "    </tr>\n",
              "  </tbody>\n",
              "</table>\n",
              "</div>"
            ],
            "text/plain": [
              "           Capacity     Occupancy\n",
              "count  35717.000000  35717.000000\n",
              "mean    1397.550130    642.228911\n",
              "std     1179.326833    656.955535\n",
              "min      220.000000     -8.000000\n",
              "25%      500.000000    210.000000\n",
              "50%      849.000000    446.000000\n",
              "75%     2009.000000    798.000000\n",
              "max     4675.000000   4327.000000"
            ]
          },
          "metadata": {
            "tags": []
          },
          "execution_count": 15
        }
      ]
    },
    {
      "cell_type": "code",
      "metadata": {
        "id": "bqC4vldjMyZT",
        "colab_type": "code",
        "colab": {
          "base_uri": "https://localhost:8080/",
          "height": 84
        },
        "outputId": "fb83e225-594e-46c3-c644-8d681dda6fd0"
      },
      "source": [
        "input_.isnull().sum()"
      ],
      "execution_count": 16,
      "outputs": [
        {
          "output_type": "execute_result",
          "data": {
            "text/plain": [
              "SystemCodeNumber    0\n",
              "Capacity            0\n",
              "Occupancy           0\n",
              "dtype: int64"
            ]
          },
          "metadata": {
            "tags": []
          },
          "execution_count": 16
        }
      ]
    },
    {
      "cell_type": "code",
      "metadata": {
        "id": "4YRQDbrPM3Fo",
        "colab_type": "code",
        "colab": {
          "base_uri": "https://localhost:8080/",
          "height": 84
        },
        "outputId": "425e8476-889e-4047-c7fe-0e5da6951496"
      },
      "source": [
        "input_.nunique()"
      ],
      "execution_count": 17,
      "outputs": [
        {
          "output_type": "execute_result",
          "data": {
            "text/plain": [
              "SystemCodeNumber      30\n",
              "Capacity              30\n",
              "Occupancy           3013\n",
              "dtype: int64"
            ]
          },
          "metadata": {
            "tags": []
          },
          "execution_count": 17
        }
      ]
    },
    {
      "cell_type": "code",
      "metadata": {
        "id": "POZC1GTGM46K",
        "colab_type": "code",
        "colab": {}
      },
      "source": [
        "from sklearn.preprocessing import LabelEncoder"
      ],
      "execution_count": 0,
      "outputs": []
    },
    {
      "cell_type": "code",
      "metadata": {
        "id": "oodyKvr0NCFJ",
        "colab_type": "code",
        "colab": {}
      },
      "source": [
        "le = LabelEncoder()\n",
        "y = le.fit_transform(input_['SystemCodeNumber'].values)\n"
      ],
      "execution_count": 0,
      "outputs": []
    },
    {
      "cell_type": "code",
      "metadata": {
        "id": "N68S94sQNMsK",
        "colab_type": "code",
        "colab": {
          "base_uri": "https://localhost:8080/",
          "height": 252
        },
        "outputId": "087f89e8-4de0-41ee-dee5-cb13cacc3d89"
      },
      "source": [
        "print(input_)"
      ],
      "execution_count": 20,
      "outputs": [
        {
          "output_type": "stream",
          "text": [
            "      SystemCodeNumber  Capacity  Occupancy\n",
            "0          BHMBCCMKT01       577         61\n",
            "1          BHMBCCMKT01       577         64\n",
            "2          BHMBCCMKT01       577         80\n",
            "3          BHMBCCMKT01       577        107\n",
            "4          BHMBCCMKT01       577        150\n",
            "...                ...       ...        ...\n",
            "35712         Shopping      1920       1517\n",
            "35713         Shopping      1920       1487\n",
            "35714         Shopping      1920       1432\n",
            "35715         Shopping      1920       1321\n",
            "35716         Shopping      1920       1180\n",
            "\n",
            "[35717 rows x 3 columns]\n"
          ],
          "name": "stdout"
        }
      ]
    },
    {
      "cell_type": "code",
      "metadata": {
        "id": "HIXKipYqNPIv",
        "colab_type": "code",
        "colab": {}
      },
      "source": [
        "input_ = y [:, np.newaxis]"
      ],
      "execution_count": 0,
      "outputs": []
    },
    {
      "cell_type": "code",
      "metadata": {
        "id": "5Hk88FrQNbhg",
        "colab_type": "code",
        "colab": {
          "base_uri": "https://localhost:8080/",
          "height": 67
        },
        "outputId": "a2f10c32-84dc-4734-c693-22f15ac68ac1"
      },
      "source": [
        "import numpy as np\n",
        "from sklearn.model_selection import train_test_split\n",
        "x_train, x_test, y_train, y_test = train_test_split(input_,target,test_size = 0.2, random_state = 0)\n",
        "print(np.shape(input_))\n",
        "print(np.shape(x_train))\n",
        "print(np.shape(x_test))"
      ],
      "execution_count": 22,
      "outputs": [
        {
          "output_type": "stream",
          "text": [
            "(35717, 1)\n",
            "(28573, 1)\n",
            "(7144, 1)\n"
          ],
          "name": "stdout"
        }
      ]
    },
    {
      "cell_type": "code",
      "metadata": {
        "id": "xeP6aaXNNg4V",
        "colab_type": "code",
        "colab": {
          "base_uri": "https://localhost:8080/",
          "height": 235
        },
        "outputId": "389a7e7c-5fa5-48df-b444-1377628e2cea"
      },
      "source": [
        "print(y_test)\n",
        "y_test.shape"
      ],
      "execution_count": 23,
      "outputs": [
        {
          "output_type": "stream",
          "text": [
            "20480    2016-10-23 09:26:51\n",
            "32463    2016-11-12 16:00:24\n",
            "24689    2016-11-11 11:00:18\n",
            "1469     2016-10-12 14:34:04\n",
            "18590    2016-11-24 14:57:51\n",
            "                ...         \n",
            "34951    2016-11-05 10:59:39\n",
            "19387    2016-10-30 09:59:52\n",
            "459      2016-10-31 12:26:06\n",
            "19884    2016-11-29 16:28:34\n",
            "18758    2016-12-07 08:46:21\n",
            "Name: LastUpdated, Length: 7144, dtype: object\n"
          ],
          "name": "stdout"
        },
        {
          "output_type": "execute_result",
          "data": {
            "text/plain": [
              "(7144,)"
            ]
          },
          "metadata": {
            "tags": []
          },
          "execution_count": 23
        }
      ]
    },
    {
      "cell_type": "code",
      "metadata": {
        "id": "c1r8jY2wNmWd",
        "colab_type": "code",
        "colab": {}
      },
      "source": [
        "# Create a function for the models\n",
        "def models(X_train, Y_train):\n",
        "        \n",
        "    # Decision Tree\n",
        "    from sklearn.tree import DecisionTreeClassifier\n",
        "    tree = DecisionTreeClassifier(criterion = 'entropy', random_state = 0)\n",
        "    tree.fit(X_train, Y_train)\n",
        "    \n",
        "    # Random Forest Classifier\n",
        "    from sklearn.ensemble import RandomForestClassifier\n",
        "    forest = RandomForestClassifier(n_estimators = 10, criterion = 'entropy', random_state = 0)\n",
        "    forest.fit(X_train, Y_train)\n",
        "    \n",
        "     # Logistic Regression\n",
        "    from sklearn.linear_model import LogisticRegression\n",
        "    log = LogisticRegression(random_state = 0, max_iter = 10000)\n",
        "    log.fit(X_train, Y_train)\n",
        "    \n",
        "    \n",
        "    # Print the models accuracy on the training data\n",
        "   \n",
        "    print('[1] Decision Tree Classifier Training Accuracy:', tree.score(X_train, Y_train))\n",
        "    print('[2] Random Forest Classifier Training Accuracy:', forest.score(X_train, Y_train))\n",
        "    print('[3] Logistic Regression Classifier Training Accuracy:', log.score(X_train, Y_train))\n",
        "    return tree, forest, log"
      ],
      "execution_count": 0,
      "outputs": []
    },
    {
      "cell_type": "code",
      "metadata": {
        "id": "-EOdAa-lNqlx",
        "colab_type": "code",
        "colab": {
          "base_uri": "https://localhost:8080/",
          "height": 67
        },
        "outputId": "afb62c1f-77a1-48aa-b5d7-cb7a85ff8951"
      },
      "source": [
        "# Getting all the models\n",
        "model = models(x_train, y_train)"
      ],
      "execution_count": 28,
      "outputs": [
        {
          "output_type": "stream",
          "text": [
            "[1] Decision Tree Classifier Training Accuracy: 0.0026598537080460573\n",
            "[2] Random Forest Classifier Training Accuracy: 0.0024848633325167116\n",
            "[3] Logistic Regression Classifier Training Accuracy: 0.0018548979806110664\n"
          ],
          "name": "stdout"
        }
      ]
    },
    {
      "cell_type": "markdown",
      "metadata": {
        "id": "FbcCCDhqH8Ix",
        "colab_type": "text"
      },
      "source": [
        ""
      ]
    },
    {
      "cell_type": "markdown",
      "metadata": {
        "id": "U0PHD-2DZSHa",
        "colab_type": "text"
      },
      "source": [
        "Now Applying Clustering"
      ]
    },
    {
      "cell_type": "code",
      "metadata": {
        "id": "fV4va0VuZMYK",
        "colab_type": "code",
        "colab": {
          "base_uri": "https://localhost:8080/",
          "height": 269
        },
        "outputId": "b5b3f81b-e9ec-4a8f-d7f4-a6dd1636313e"
      },
      "source": [
        "'''Dataset contained 46 columns out of which only 2 numerical values'''\n",
        "df1 = df.iloc[:,[1,2]]\n",
        "print(df1)\n",
        "'''Now apply the K-Means on the dataset'''\n",
        "from sklearn.cluster import KMeans\n",
        "km = KMeans()\n",
        "y_km = km.fit_predict(df1)\n",
        "print(y_km)"
      ],
      "execution_count": 29,
      "outputs": [
        {
          "output_type": "stream",
          "text": [
            "       Capacity  Occupancy\n",
            "0           577         61\n",
            "1           577         64\n",
            "2           577         80\n",
            "3           577        107\n",
            "4           577        150\n",
            "...         ...        ...\n",
            "35712      1920       1517\n",
            "35713      1920       1487\n",
            "35714      1920       1432\n",
            "35715      1920       1321\n",
            "35716      1920       1180\n",
            "\n",
            "[35717 rows x 2 columns]\n",
            "[0 0 0 ... 6 6 6]\n"
          ],
          "name": "stdout"
        }
      ]
    },
    {
      "cell_type": "code",
      "metadata": {
        "id": "lYJqyC3vaSFn",
        "colab_type": "code",
        "colab": {
          "base_uri": "https://localhost:8080/",
          "height": 265
        },
        "outputId": "8bd64c21-9e24-4989-ab46-03c3bc5d8feb"
      },
      "source": [
        "'''plotting the clusters. Dataset contain more number of zeros so in the graph\n",
        "less instances are showing.'''\n",
        "import matplotlib.pyplot as plt\n",
        "plt.scatter(df1.iloc[y_km == 0,0], df1.iloc[y_km == 0,1])\n",
        "plt.scatter(df1.iloc[y_km == 1,0], df1.iloc[y_km == 1,1])\n",
        "plt.scatter(df1.iloc[y_km == 0,0], df1.iloc[y_km == 0,1])\n",
        "plt.scatter(df1.iloc[y_km == 1,0], df1.iloc[y_km == 1,1])\n",
        "plt.scatter(df1.iloc[y_km == 0,0], df1.iloc[y_km == 0,1])\n",
        "\n",
        "plt.plot()\n",
        "plt.show()"
      ],
      "execution_count": 30,
      "outputs": [
        {
          "output_type": "display_data",
          "data": {
            "image/png": "[encoded data removed]",
            "text/plain": [
              "<Figure size 432x288 with 1 Axes>"
            ]
          },
          "metadata": {
            "tags": []
          }
        }
      ]
    },
    {
      "cell_type": "code",
      "metadata": {
        "id": "8ELWCc1Baioh",
        "colab_type": "code",
        "colab": {
          "base_uri": "https://localhost:8080/",
          "height": 34
        },
        "outputId": "17c56435-33b1-46a6-cc88-ed0a51410772"
      },
      "source": [
        "from sklearn.cluster import AgglomerativeClustering\n",
        "ac=AgglomerativeClustering(n_clusters=3,affinity='euclidean', linkage='complete')\n",
        "labels=ac.fit_predict(df1)\n",
        "print('Cluster labels:%s'%labels)"
      ],
      "execution_count": 31,
      "outputs": [
        {
          "output_type": "stream",
          "text": [
            "Cluster labels:[1 1 1 ... 0 0 0]\n"
          ],
          "name": "stdout"
        }
      ]
    },
    {
      "cell_type": "code",
      "metadata": {
        "id": "T7nehWqVbKtn",
        "colab_type": "code",
        "colab": {
          "base_uri": "https://localhost:8080/",
          "height": 265
        },
        "outputId": "a138076c-ef30-47bf-eca2-17ea3a5b9391"
      },
      "source": [
        "'''plotting the clusters. Dataset contain more number of zeros so in the graph\n",
        "less instances are showing.'''\n",
        "import matplotlib.pyplot as plt\n",
        "plt.scatter(df1.iloc[labels == 0,0], df1.iloc[labels == 0,1])\n",
        "plt.scatter(df1.iloc[labels == 1,0], df1.iloc[labels == 1,1])\n",
        "plt.scatter(df1.iloc[labels == 0,0], df1.iloc[labels == 0,1])\n",
        "plt.scatter(df1.iloc[labels == 1,0], df1.iloc[labels == 1,1])\n",
        "plt.scatter(df1.iloc[labels == 0,0], df1.iloc[labels == 0,1])\n",
        "\n",
        "plt.plot()\n",
        "plt.show()"
      ],
      "execution_count": 33,
      "outputs": [
        {
          "output_type": "display_data",
          "data": {
            "image/png": "[encoded data removed]",
            "text/plain": [
              "<Figure size 432x288 with 1 Axes>"
            ]
          },
          "metadata": {
            "tags": []
          }
        }
      ]
    },
    {
      "cell_type": "code",
      "metadata": {
        "id": "XFSGq8H7blsf",
        "colab_type": "code",
        "colab": {
          "base_uri": "https://localhost:8080/",
          "height": 281
        },
        "outputId": "4fd69726-2ec3-41fd-c35c-d07ecde00999"
      },
      "source": [
        "from sklearn.cluster import DBSCAN\n",
        "db=DBSCAN(eps=0.2,min_samples=5,metric='euclidean')\n",
        "y_db=db.fit_predict(df1)\n",
        "plt.figure()\n",
        "plt.scatter(df1.iloc[y_db==0,0],df1.iloc[y_db==0,1],c='lightblue',edgecolor='black', marker='o',s=40,label='cluster 1')\n",
        "plt.scatter(df1.iloc[y_db==1,0],df1.iloc[y_db==1,1],c='red',edgecolor='black', marker='s',s=40,label='cluster 1')\n",
        "plt.title('DBSCAN Clustering')\n",
        "plt.legend()\n",
        "plt.show()"
      ],
      "execution_count": 34,
      "outputs": [
        {
          "output_type": "display_data",
          "data": {
            "image/png": "[encoded data removed]",
            "text/plain": [
              "<Figure size 432x288 with 1 Axes>"
            ]
          },
          "metadata": {
            "tags": []
          }
        }
      ]
    },
    {
      "cell_type": "markdown",
      "metadata": {
        "id": "AuyI01GTbxCS",
        "colab_type": "text"
      },
      "source": [
        "**Now** **Applying** **Regression** "
      ]
    },
    {
      "cell_type": "code",
      "metadata": {
        "id": "-7oRuQbsbsTO",
        "colab_type": "code",
        "colab": {}
      },
      "source": [
        "# Linear Regression\n",
        "from sklearn.linear_model import LinearRegression"
      ],
      "execution_count": 0,
      "outputs": []
    },
    {
      "cell_type": "code",
      "metadata": {
        "id": "qTmyGWRHeOMU",
        "colab_type": "code",
        "colab": {
          "base_uri": "https://localhost:8080/",
          "height": 265
        },
        "outputId": "3d0bd2b3-9730-4e7f-84c8-bfb5baa17fa2"
      },
      "source": [
        "X = df[['Capacity']].values\n",
        "Y = df[['Occupancy']].values\n",
        "plt.scatter(X,Y)\n",
        "plt.show()\n"
      ],
      "execution_count": 38,
      "outputs": [
        {
          "output_type": "display_data",
          "data": {
            "image/png": "[encoded data removed]",
            "text/plain": [
              "<Figure size 432x288 with 1 Axes>"
            ]
          },
          "metadata": {
            "tags": []
          }
        }
      ]
    },
    {
      "cell_type": "code",
      "metadata": {
        "id": "wZpnu02zeObV",
        "colab_type": "code",
        "colab": {}
      },
      "source": [
        "x_train,x_test,y_train,y_test = train_test_split(X,Y,test_size = 0.30, random_state = 0)\n"
      ],
      "execution_count": 0,
      "outputs": []
    },
    {
      "cell_type": "code",
      "metadata": {
        "id": "5Fmo7fmzdsYa",
        "colab_type": "code",
        "colab": {
          "base_uri": "https://localhost:8080/",
          "height": 282
        },
        "outputId": "3de7e15f-8554-4a9b-810b-5c130f2ff650"
      },
      "source": [
        "slr = LinearRegression()\n",
        "slr.fit(x_train,y_train)\n",
        "y_predict = slr.predict(x_test)\n",
        "plt.plot(x_test,y_predict, color = 'r')\n",
        "plt.scatter(x_test,y_test,color ='g')\n",
        "plt.show()\n",
        "slr.score(x_test,y_test)"
      ],
      "execution_count": 40,
      "outputs": [
        {
          "output_type": "display_data",
          "data": {
            "image/png": "[encoded data removed]",
            "text/plain": [
              "<Figure size 432x288 with 1 Axes>"
            ]
          },
          "metadata": {
            "tags": []
          }
        },
        {
          "output_type": "execute_result",
          "data": {
            "text/plain": [
              "0.5965776075101522"
            ]
          },
          "metadata": {
            "tags": []
          },
          "execution_count": 40
        }
      ]
    },
    {
      "cell_type": "code",
      "metadata": {
        "id": "l8qF_Rg-eo2V",
        "colab_type": "code",
        "colab": {
          "base_uri": "https://localhost:8080/",
          "height": 50
        },
        "outputId": "f33ab9f0-fc95-4167-e527-7cc6a68948c6"
      },
      "source": [
        "from sklearn.metrics import mean_squared_error, r2_score\n",
        "print(mean_squared_error(slr.predict(x_train),y_train))\n",
        "print(r2_score(slr.predict(x_train),y_train))"
      ],
      "execution_count": 41,
      "outputs": [
        {
          "output_type": "stream",
          "text": [
            "171027.2046001652\n",
            "0.34482839984003766\n"
          ],
          "name": "stdout"
        }
      ]
    },
    {
      "cell_type": "code",
      "metadata": {
        "id": "5olEHAn9gZ-a",
        "colab_type": "code",
        "colab": {}
      },
      "source": [
        ""
      ],
      "execution_count": 0,
      "outputs": []
    },
    {
      "cell_type": "markdown",
      "metadata": {
        "id": "eDgfweGDfImh",
        "colab_type": "text"
      },
      "source": [
        "# Decision Tree Regressor"
      ]
    },
    {
      "cell_type": "code",
      "metadata": {
        "id": "ig_WjAZCe9UF",
        "colab_type": "code",
        "colab": {}
      },
      "source": [
        "from sklearn.tree import DecisionTreeRegressor\n",
        "def lin_regplot(x,y,model):\n",
        "    plt.scatter(x,y,c = 'steelblue', edgecolor = 'white', s = 70)\n",
        "    plt.plot(x,model.predict(x), color = 'black', lw = 2)\n",
        "    # return none"
      ],
      "execution_count": 0,
      "outputs": []
    },
    {
      "cell_type": "code",
      "metadata": {
        "id": "sBf3FlwLe9hK",
        "colab_type": "code",
        "colab": {
          "base_uri": "https://localhost:8080/",
          "height": 279
        },
        "outputId": "e69adc31-0f46-4c9c-ec6f-83d1bf0a27fb"
      },
      "source": [
        "tree1 = DecisionTreeRegressor(max_depth = 3, random_state = 0)\n",
        "tree1.fit(X,Y)\n",
        "sort_idx = X.flatten().argsort()\n",
        "lin_regplot(X[sort_idx], Y[sort_idx], tree1)\n",
        "plt.xlabel('%lower status of population')\n",
        "plt.ylabel('price in $100s')\n",
        "plt.show()"
      ],
      "execution_count": 45,
      "outputs": [
        {
          "output_type": "display_data",
          "data": {
            "image/png": "[encoded data removed]",
            "text/plain": [
              "<Figure size 432x288 with 1 Axes>"
            ]
          },
          "metadata": {
            "tags": []
          }
        }
      ]
    },
    {
      "cell_type": "code",
      "metadata": {
        "id": "Npsp7inDglgz",
        "colab_type": "code",
        "colab": {
          "base_uri": "https://localhost:8080/",
          "height": 50
        },
        "outputId": "de851d9c-767b-485f-a9df-2b040b298220"
      },
      "source": [
        "print(mean_squared_error(tree1.predict(x_train),y_train))\n",
        "print(r2_score(tree1.predict(x_train),y_train))"
      ],
      "execution_count": 48,
      "outputs": [
        {
          "output_type": "stream",
          "text": [
            "134633.28018746516\n",
            "0.5497055540619435\n"
          ],
          "name": "stdout"
        }
      ]
    },
    {
      "cell_type": "markdown",
      "metadata": {
        "id": "LFWKuuOkf6wI",
        "colab_type": "text"
      },
      "source": [
        "# Random Forest Regressor"
      ]
    },
    {
      "cell_type": "code",
      "metadata": {
        "id": "wk-H7oT-e9nc",
        "colab_type": "code",
        "colab": {
          "base_uri": "https://localhost:8080/",
          "height": 333
        },
        "outputId": "99913255-574a-43dd-f8dc-6cc02f260df1"
      },
      "source": [
        "from sklearn.ensemble import RandomForestRegressor\n",
        "tree2 = RandomForestRegressor(max_depth = 3, random_state = 0)\n",
        "tree2.fit(X,Y)\n",
        "sort_idx = X.flatten().argsort()\n",
        "lin_regplot(X[sort_idx], Y[sort_idx], tree2)\n",
        "plt.xlabel('%lower status of population')\n",
        "plt.ylabel('price in $100s')\n",
        "plt.show()"
      ],
      "execution_count": 46,
      "outputs": [
        {
          "output_type": "stream",
          "text": [
            "/usr/local/lib/python3.6/dist-packages/ipykernel_launcher.py:3: DataConversionWarning: A column-vector y was passed when a 1d array was expected. Please change the shape of y to (n_samples,), for example using ravel().\n",
            "  This is separate from the ipykernel package so we can avoid doing imports until\n"
          ],
          "name": "stderr"
        },
        {
          "output_type": "display_data",
          "data": {
            "image/png": "[encoded data removed]",
            "text/plain": [
              "<Figure size 432x288 with 1 Axes>"
            ]
          },
          "metadata": {
            "tags": []
          }
        }
      ]
    },
    {
      "cell_type": "code",
      "metadata": {
        "id": "55kR_nSSgcBB",
        "colab_type": "code",
        "colab": {
          "base_uri": "https://localhost:8080/",
          "height": 50
        },
        "outputId": "b21647f2-95f6-4386-d14d-d0148e06ddd0"
      },
      "source": [
        "print(mean_squared_error(tree2.predict(x_train),y_train))\n",
        "print(r2_score(tree2.predict(x_train),y_train))"
      ],
      "execution_count": 47,
      "outputs": [
        {
          "output_type": "stream",
          "text": [
            "135793.207572816\n",
            "0.5394699653627621\n"
          ],
          "name": "stdout"
        }
      ]
    }
  ]
}